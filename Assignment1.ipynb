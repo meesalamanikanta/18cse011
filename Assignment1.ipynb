{
  "nbformat": 4,
  "nbformat_minor": 0,
  "metadata": {
    "colab": {
      "name": "Assignment1.ipynb",
      "provenance": [],
      "include_colab_link": true
    },
    "kernelspec": {
      "name": "python3",
      "display_name": "Python 3"
    }
  },
  "cells": [
    {
      "cell_type": "markdown",
      "metadata": {
        "id": "view-in-github",
        "colab_type": "text"
      },
      "source": [
        "<a href=\"https://colab.research.google.com/github/meesalamanikanta/18cse011/blob/main/Assignment1.ipynb\" target=\"_parent\"><img src=\"https://colab.research.google.com/assets/colab-badge.svg\" alt=\"Open In Colab\"/></a>"
      ]
    },
    {
      "cell_type": "code",
      "metadata": {
        "id": "MNho2Gym7wU8"
      },
      "source": [
        "import numpy\n",
        "from scipy import stats"
      ],
      "execution_count": null,
      "outputs": []
    },
    {
      "cell_type": "code",
      "metadata": {
        "id": "PqDJFmW977Z5"
      },
      "source": [
        "weight=[56,60,62,65,70]"
      ],
      "execution_count": null,
      "outputs": []
    },
    {
      "cell_type": "code",
      "metadata": {
        "id": "xCjV8Srs8A1E"
      },
      "source": [
        "x=numpy.mean(weight)\n",
        "y=numpy.median(weight)\n",
        "z=stats.mode(weight)\n",
        "s=numpy.std(weight)\n",
        "v=numpy.var(weight)"
      ],
      "execution_count": null,
      "outputs": []
    },
    {
      "cell_type": "code",
      "metadata": {
        "colab": {
          "base_uri": "https://localhost:8080/"
        },
        "id": "GF4MPPQ78FBF",
        "outputId": "0d3bb4e1-9957-4fba-97c0-a83c148be991"
      },
      "source": [
        "print(\"mean is :\",x)\n",
        "print(\"median is :\",y)\n",
        "print(\"mode is :\",z)\n",
        "print(\"standard deviation is :\",s)\n",
        "print(\"varience is :\",v)"
      ],
      "execution_count": null,
      "outputs": [
        {
          "output_type": "stream",
          "text": [
            "mean is : 62.6\n",
            "median is : 62.0\n",
            "mode is : ModeResult(mode=array([56]), count=array([1]))\n",
            "standard deviation is : 4.715930449020639\n",
            "varience is : 22.24\n"
          ],
          "name": "stdout"
        }
      ]
    },
    {
      "cell_type": "markdown",
      "metadata": {
        "id": "5PloinNJ6-r2"
      },
      "source": [
        "**Q2. Write a python code for calculating variance and standard deviation for the  set of elements.**"
      ]
    },
    {
      "cell_type": "code",
      "metadata": {
        "id": "n1D4qZ906CWY"
      },
      "source": [
        "s = numpy.std(age)"
      ],
      "execution_count": null,
      "outputs": []
    },
    {
      "cell_type": "code",
      "metadata": {
        "id": "O7_mIWgc6F8D"
      },
      "source": [
        "v = numpy.var(age)"
      ],
      "execution_count": null,
      "outputs": []
    },
    {
      "cell_type": "code",
      "metadata": {
        "id": "Z-BIWFQL6V0h",
        "colab": {
          "base_uri": "https://localhost:8080/"
        },
        "outputId": "ae647c2a-7dec-4d8a-f7ab-95fd422fc652"
      },
      "source": [
        "print('Standard Deviation = ',s)"
      ],
      "execution_count": null,
      "outputs": [
        {
          "output_type": "stream",
          "text": [
            "Standard Deviation =  19.132982149083812\n"
          ],
          "name": "stdout"
        }
      ]
    },
    {
      "cell_type": "code",
      "metadata": {
        "id": "74rkqJ4p6as_",
        "colab": {
          "base_uri": "https://localhost:8080/"
        },
        "outputId": "26a22701-26b1-4247-baa2-9460c1993e08"
      },
      "source": [
        "print('Variacnce = ',v)"
      ],
      "execution_count": null,
      "outputs": [
        {
          "output_type": "stream",
          "text": [
            "Variacnce =  366.07100591715977\n"
          ],
          "name": "stdout"
        }
      ]
    },
    {
      "cell_type": "markdown",
      "metadata": {
        "id": "mm7vPkAT77B0"
      },
      "source": [
        "**Practice some basic python programs**"
      ]
    },
    {
      "cell_type": "code",
      "metadata": {
        "id": "LXbaZZte8CpN",
        "colab": {
          "base_uri": "https://localhost:8080/"
        },
        "outputId": "c247d806-4e30-4c11-d2fa-ddc3f823ce18"
      },
      "source": [
        "# This program prints Hello, world!\n",
        "\n",
        "print('Hello, world!')"
      ],
      "execution_count": null,
      "outputs": [
        {
          "output_type": "stream",
          "text": [
            "Hello, world!\n"
          ],
          "name": "stdout"
        }
      ]
    },
    {
      "cell_type": "code",
      "metadata": {
        "id": "a2SXyU608YWS",
        "colab": {
          "base_uri": "https://localhost:8080/"
        },
        "outputId": "a534a751-fe16-4a57-9c1d-2c0c09206d52"
      },
      "source": [
        "# This program adds two numbers\n",
        "\n",
        "num1 = 1.5\n",
        "num2 = 6.3\n",
        "\n",
        "# Add two numbers\n",
        "sum = num1 + num2\n",
        "\n",
        "# Display the sum\n",
        "print('The sum of {0} and {1} is {2}'.format(num1, num2, sum))"
      ],
      "execution_count": null,
      "outputs": [
        {
          "output_type": "stream",
          "text": [
            "The sum of 1.5 and 6.3 is 7.8\n"
          ],
          "name": "stdout"
        }
      ]
    },
    {
      "cell_type": "code",
      "metadata": {
        "id": "mVDfAFG-8dPP",
        "colab": {
          "base_uri": "https://localhost:8080/"
        },
        "outputId": "4dd7631f-a458-49b0-f4a2-5cee776dfb3b"
      },
      "source": [
        "# Python Program to calculate the square root\n",
        "\n",
        "num = 8 \n",
        "\n",
        "num_sqrt = num ** 0.5\n",
        "print('The square root of %0.3f is %0.3f'%(num ,num_sqrt))"
      ],
      "execution_count": null,
      "outputs": [
        {
          "output_type": "stream",
          "text": [
            "The square root of 8.000 is 2.828\n"
          ],
          "name": "stdout"
        }
      ]
    },
    {
      "cell_type": "code",
      "metadata": {
        "id": "vFr9zZy88oTN",
        "colab": {
          "base_uri": "https://localhost:8080/"
        },
        "outputId": "607385a8-38a0-487d-d2bf-ff63765077d1"
      },
      "source": [
        "# Solve the quadratic equation ax**2 + bx + c = 0\n",
        "\n",
        "# import complex math module\n",
        "import cmath\n",
        "\n",
        "a = 1\n",
        "b = 5\n",
        "c = 6\n",
        "\n",
        "# calculate the discriminant\n",
        "d = (b**2) - (4*a*c)\n",
        "\n",
        "# find two solutions\n",
        "sol1 = (-b-cmath.sqrt(d))/(2*a)\n",
        "sol2 = (-b+cmath.sqrt(d))/(2*a)\n",
        "\n",
        "print('The solution are {0} and {1}'.format(sol1,sol2))"
      ],
      "execution_count": null,
      "outputs": [
        {
          "output_type": "stream",
          "text": [
            "The solution are (-3+0j) and (-2+0j)\n"
          ],
          "name": "stdout"
        }
      ]
    },
    {
      "cell_type": "code",
      "metadata": {
        "id": "UJm_a8g781cP",
        "colab": {
          "base_uri": "https://localhost:8080/"
        },
        "outputId": "a8fc2487-f8c9-42ee-f624-e4891e2438ce"
      },
      "source": [
        "# Python program to swap two variables\n",
        "\n",
        "x = 5\n",
        "y = 10\n",
        "\n",
        "# create a temporary variable and swap the values\n",
        "temp = x\n",
        "x = y\n",
        "y = temp\n",
        "\n",
        "print('The value of x after swapping: {}'.format(x))\n",
        "print('The value of y after swapping: {}'.format(y))"
      ],
      "execution_count": null,
      "outputs": [
        {
          "output_type": "stream",
          "text": [
            "The value of x after swapping: 10\n",
            "The value of y after swapping: 5\n"
          ],
          "name": "stdout"
        }
      ]
    },
    {
      "cell_type": "code",
      "metadata": {
        "id": "FggZVKQc9ANq",
        "colab": {
          "base_uri": "https://localhost:8080/"
        },
        "outputId": "ae9f51fc-0440-4075-b472-d478e561aaec"
      },
      "source": [
        "# Program to generate a random number between 0 and 9.\n",
        "# importing the random module.\n",
        "\n",
        "import random\n",
        "\n",
        "print(random.randint(0,9))"
      ],
      "execution_count": null,
      "outputs": [
        {
          "output_type": "stream",
          "text": [
            "0\n"
          ],
          "name": "stdout"
        }
      ]
    }
  ]
}